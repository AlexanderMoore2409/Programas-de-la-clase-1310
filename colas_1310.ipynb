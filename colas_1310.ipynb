{
  "nbformat": 4,
  "nbformat_minor": 0,
  "metadata": {
    "colab": {
      "name": "colas_1310.ipynb",
      "provenance": [],
      "collapsed_sections": [],
      "authorship_tag": "ABX9TyPWIqqlpa2/tzEXyOpnFdyz",
      "include_colab_link": true
    },
    "kernelspec": {
      "name": "python3",
      "display_name": "Python 3"
    },
    "language_info": {
      "name": "python"
    }
  },
  "cells": [
    {
      "cell_type": "markdown",
      "metadata": {
        "id": "view-in-github",
        "colab_type": "text"
      },
      "source": [
        "<a href=\"https://colab.research.google.com/github/AlexanderMoore2409/Programas-de-la-clase-1310/blob/main/colas_1310.ipynb\" target=\"_parent\"><img src=\"https://colab.research.google.com/assets/colab-badge.svg\" alt=\"Open In Colab\"/></a>"
      ]
    },
    {
      "cell_type": "code",
      "metadata": {
        "id": "26-sy2zk-cWz"
      },
      "source": [
        "class Queue:\n",
        "  def __init__(self):\n",
        "    self.data = []\n",
        "\n",
        "  def is_empty(self):\n",
        "    return len(self.data) == 0\n",
        "\n",
        "  def lenght(self):\n",
        "    return len(self.data)\n",
        "\n",
        "  def enqueue(self , value):\n",
        "    self.data.append(value)\n",
        "\n",
        "  def dequeue(self):\n",
        "    self.data.pop(0)\n",
        "\n",
        "  def to_string(self):\n",
        "    for elem in self.data:\n",
        "      print(f\"|{elem}| <--\", end =\"\")\n",
        "    print(\"\")\n",
        "\n"
      ],
      "execution_count": 1,
      "outputs": []
    },
    {
      "cell_type": "code",
      "metadata": {
        "colab": {
          "base_uri": "https://localhost:8080/"
        },
        "id": "fwteK2q8Mib0",
        "outputId": "82cc3c63-787c-4046-f0b7-b85e245263e0"
      },
      "source": [
        "cola = Queue()\n",
        "print(\"esta vacio??\" , cola.is_empty())\n",
        "print(\"numero de elementos\", cola.lenght())\n",
        "cola.enqueue(10)\n",
        "cola.enqueue(20)\n",
        "cola.enqueue(30)\n",
        "print(\"esta vacio??\" , cola.is_empty())\n",
        "print(\"numero de elementos\", cola.lenght())\n",
        "cola.enqueue(40)\n",
        "cola.enqueue(50)\n",
        "cola.enqueue(60)\n",
        "cola.to_string()\n",
        "siguiente = cola.dequeue()\n",
        "print(\"atendiendo a: \", siguiente)\n",
        "cola.to_string()"
      ],
      "execution_count": 2,
      "outputs": [
        {
          "output_type": "stream",
          "name": "stdout",
          "text": [
            "esta vacio?? True\n",
            "numero de elementos 0\n",
            "esta vacio?? False\n",
            "numero de elementos 3\n",
            "|10| <--|20| <--|30| <--|40| <--|50| <--|60| <--\n",
            "atendiendo a:  None\n",
            "|20| <--|30| <--|40| <--|50| <--|60| <--\n"
          ]
        }
      ]
    },
    {
      "cell_type": "markdown",
      "metadata": {
        "id": "yu10P_YbQrp1"
      },
      "source": [
        "#Variantes de la cola ADT\n",
        "1. Circulares\n",
        "2. Prioridad\n",
        " 1. acotada\n",
        " 2. no acotada"
      ]
    },
    {
      "cell_type": "code",
      "metadata": {
        "id": "ins5zNOx6ycE"
      },
      "source": [
        "#Implementacion de la cola de prioridad acotada\n",
        "class BoundedPriorityQueue:\n",
        "  def __init__(self, niveles):\n",
        "    self.__data = [Queue() for x in range(niveles)]\n",
        "    #self.__data = Array(niveles)\n",
        "    #self.__data.clear(Queue())\n",
        "    self.__size = 0\n",
        "  \n",
        "  def is_empty(self):\n",
        "    return self.__size == 0\n",
        "\n",
        "  def lenght(self):\n",
        "    return self.__size\n",
        "\n",
        "  def enqueue(self, prioridad, elem):\n",
        "    if prioridad < len(self.__data) \\\n",
        "      and prioridad >= 0:\n",
        "      self.__data[prioridad].enqueue(elem)\n",
        "      self.__size +=1\n",
        "\n",
        "  def dequeue(self):\n",
        "    nivel = 0\n",
        "    while self.__data[nivel].is_empty() \\\n",
        "       and nivel < self.lenght():\n",
        "      nivel +=1\n",
        "    \n",
        "    if nivel >= self.lenght():\n",
        "      print(\"La cola esta vacia\")\n",
        "    else:\n",
        "      return self.__data[nivel].dequeue()\n",
        "\n",
        "  def to_string(self):\n",
        "    prioridad = 0\n",
        "    for cola in self.__data:\n",
        "      print(f\"prioridad{prioridad} ->\", end= \"\")\n",
        "      cola.to_string()\n",
        "      prioridad +=1"
      ],
      "execution_count": 3,
      "outputs": []
    },
    {
      "cell_type": "code",
      "metadata": {
        "colab": {
          "base_uri": "https://localhost:8080/"
        },
        "id": "3vNaBcwAM9Et",
        "outputId": "8cc6a08e-f6cb-44c1-a156-fc54ade70c5a"
      },
      "source": [
        "#prueba de la cola con prioridad\n",
        "salvavidas = BoundedPriorityQueue(7)\n",
        "salvavidas.enqueue(4, \"maestre\")\n",
        "salvavidas.enqueue(1, \"niños\")\n",
        "salvavidas.enqueue(4, \"mecanico\")\n",
        "\n",
        "salvavidas.enqueue(3, \"mujeres\")\n",
        "salvavidas.enqueue(2, \"tercera edad\")\n",
        "salvavidas.enqueue(4, \"niñas\")\n",
        "salvavidas.enqueue(3, \"Hombres\")\n",
        "salvavidas.enqueue(4, \"Vigia\")\n",
        "salvavidas.enqueue(5, \"Capitan\")\n",
        "salvavidas.enqueue(4, \"timonel\")\n",
        "salvavidas.to_string()\n",
        "sig = salvavidas.dequeue()\n",
        "print(f\"subiendo {sig} al bote salvavidas\")\n",
        "salvavidas.to_string()\n",
        "print(\".-.-.-.---.-.-.-\")\n",
        "sig = salvavidas.dequeue()\n",
        "print(f\"subiendo {sig} al bote salvavidas\")\n",
        "salvavidas.to_string()"
      ],
      "execution_count": 4,
      "outputs": [
        {
          "output_type": "stream",
          "name": "stdout",
          "text": [
            "prioridad0 ->\n",
            "prioridad1 ->|niños| <--\n",
            "prioridad2 ->|tercera edad| <--\n",
            "prioridad3 ->|mujeres| <--|Hombres| <--\n",
            "prioridad4 ->|maestre| <--|mecanico| <--|niñas| <--|Vigia| <--|timonel| <--\n",
            "prioridad5 ->|Capitan| <--\n",
            "prioridad6 ->\n",
            "subiendo None al bote salvavidas\n",
            "prioridad0 ->\n",
            "prioridad1 ->\n",
            "prioridad2 ->|tercera edad| <--\n",
            "prioridad3 ->|mujeres| <--|Hombres| <--\n",
            "prioridad4 ->|maestre| <--|mecanico| <--|niñas| <--|Vigia| <--|timonel| <--\n",
            "prioridad5 ->|Capitan| <--\n",
            "prioridad6 ->\n",
            ".-.-.-.---.-.-.-\n",
            "subiendo None al bote salvavidas\n",
            "prioridad0 ->\n",
            "prioridad1 ->\n",
            "prioridad2 ->\n",
            "prioridad3 ->|mujeres| <--|Hombres| <--\n",
            "prioridad4 ->|maestre| <--|mecanico| <--|niñas| <--|Vigia| <--|timonel| <--\n",
            "prioridad5 ->|Capitan| <--\n",
            "prioridad6 ->\n"
          ]
        }
      ]
    },
    {
      "cell_type": "code",
      "metadata": {
        "id": "CjkiYkB8TeH8"
      },
      "source": [
        " #ed = [\n",
        "      #{\"prioridad\" : 1,\"cola\": Queue()},\n",
        "      #{\"prioridad\" : 2,\"cola\": Queue()},\n",
        "      #{\"prioridad\" : 4,\"cola\": Queue()},\n",
        "      #{\"prioridad\" : 20,\"cola\": Queue()},\n",
        "      #{\"prioridad\" : 100,\"cola\": Queue()},\n",
        "      #{\"prioridad\" : 3,\"cola\": Queue()},\n",
        "\n",
        "     #]"
      ],
      "execution_count": 5,
      "outputs": []
    },
    {
      "cell_type": "code",
      "metadata": {
        "id": "SbvY7mlnR9aV"
      },
      "source": [
        "class PriorityQueue:\n",
        "  def __init__(self):\n",
        "    self.__data = []\n",
        "    self.__size = 0\n",
        "\n",
        "  def is_empty(self):\n",
        "    return self.__size == 0\n",
        "\n",
        "  def lenght(self):\n",
        "    return self.__size\n",
        "\n",
        "  def enqueue(self , prioridad , elem ):\n",
        "        existe = False\n",
        "        indice = 0\n",
        "        for index in range(len(self.__data)):\n",
        "            if self.__data[index][ \"prioridad\" ] == prioridad:\n",
        "                existe = True\n",
        "                indice = index\n",
        "        \n",
        "        if existe:\n",
        "            self.__data[indice][\"cola\"].enqueue(elem)\n",
        "        else:\n",
        "            self.__data.append( {\"prioridad\":prioridad , \"cola\": Queue() } )\n",
        "            self.__data[-1][\"cola\"].enqueue(elem)\n",
        "\n",
        "  \n",
        "  def to_string( self ):\n",
        "        for cola in self.__data:\n",
        "            cola[\"cola\"].to_string()\n",
        "  \n",
        "  def dequeue(self):\n",
        "    siguiente = 999999\n",
        "    sig_indice = 0\n",
        "    for index in range(len(self.__data)):\n",
        "      if self.__data[index][\"prioridad\"] < siguiente \\\n",
        "         and not self.__data[index][\"cola\"].is_empty():\n",
        "         siguiente = self.__data[index][\"prioridad\"]\n",
        "         sig_indice = index\n",
        "    return self.__data[sig_indice][\"cola\"].dequeue()#Falta validar \n",
        "\n",
        "  "
      ],
      "execution_count": 6,
      "outputs": []
    },
    {
      "cell_type": "code",
      "metadata": {
        "colab": {
          "base_uri": "https://localhost:8080/"
        },
        "id": "exnQXoEbWkzY",
        "outputId": "56fc57e3-d0b8-4548-df50-608039497d4b"
      },
      "source": [
        "cp = PriorityQueue()\n",
        "cp.enqueue(1, \"niñas\")\n",
        "cp.enqueue(2, \"niños\")\n",
        "cp.enqueue(2, \"Profesores\")\n",
        "cp.enqueue(1, \"Presidente USA\")\n",
        "cp.enqueue(999, \"Presidente Mexico\")\n",
        "cp.to_string()\n",
        "print(\"-----Evacuando a----\")\n",
        "print(cp.dequeue())\n",
        "cp.to_string()"
      ],
      "execution_count": 9,
      "outputs": [
        {
          "output_type": "stream",
          "name": "stdout",
          "text": [
            "|niñas| <--|Presidente USA| <--\n",
            "|niños| <--|Profesores| <--\n",
            "|Presidente Mexico| <--\n",
            "-----Evacuando a----\n",
            "None\n",
            "|Presidente USA| <--\n",
            "|niños| <--|Profesores| <--\n",
            "|Presidente Mexico| <--\n"
          ]
        }
      ]
    }
  ]
}