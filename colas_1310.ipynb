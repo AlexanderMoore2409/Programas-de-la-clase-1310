{
  "nbformat": 4,
  "nbformat_minor": 0,
  "metadata": {
    "colab": {
      "name": "colas_1310.ipynb",
      "provenance": [],
      "collapsed_sections": [],
      "authorship_tag": "ABX9TyMcWb7tIhcAs+UcK1I+usX7",
      "include_colab_link": true
    },
    "kernelspec": {
      "name": "python3",
      "display_name": "Python 3"
    },
    "language_info": {
      "name": "python"
    }
  },
  "cells": [
    {
      "cell_type": "markdown",
      "metadata": {
        "id": "view-in-github",
        "colab_type": "text"
      },
      "source": [
        "<a href=\"https://colab.research.google.com/github/AlexanderMoore2409/Programas-de-la-clase-1310/blob/main/colas_1310.ipynb\" target=\"_parent\"><img src=\"https://colab.research.google.com/assets/colab-badge.svg\" alt=\"Open In Colab\"/></a>"
      ]
    },
    {
      "cell_type": "code",
      "metadata": {
        "id": "26-sy2zk-cWz"
      },
      "source": [
        "class Queue:\n",
        "  def __init__(self):\n",
        "    self.data = []\n",
        "\n",
        "  def is_empty(self):\n",
        "    return len(self.data) == 0\n",
        "\n",
        "  def lenght(self):\n",
        "    return len(self.data)\n",
        "\n",
        "  def enqueue(self , value):\n",
        "    self.data.append(value)\n",
        "\n",
        "  def dequeue(self):\n",
        "    self.data.pop(0)\n",
        "\n",
        "  def to_string(self):\n",
        "    for elem in self.data:\n",
        "      print(f\"|{elem}| <--\", end =\"\")\n",
        "    print(\"\")\n",
        "\n"
      ],
      "execution_count": null,
      "outputs": []
    },
    {
      "cell_type": "code",
      "metadata": {
        "colab": {
          "base_uri": "https://localhost:8080/"
        },
        "id": "fwteK2q8Mib0",
        "outputId": "b59b9078-d7a3-47d3-c1f0-89c1242db28e"
      },
      "source": [
        "cola = Queue()\n",
        "print(\"esta vacio??\" , cola.is_empty())\n",
        "print(\"numero de elementos\", cola.lenght())\n",
        "cola.enqueue(10)\n",
        "cola.enqueue(20)\n",
        "cola.enqueue(30)\n",
        "print(\"esta vacio??\" , cola.is_empty())\n",
        "print(\"numero de elementos\", cola.lenght())\n",
        "cola.enqueue(40)\n",
        "cola.enqueue(50)\n",
        "cola.enqueue(60)\n",
        "cola.to_string()\n",
        "siguiente = cola.dequeue()\n",
        "print(\"atendiendo a: \", siguiente)\n",
        "cola.to_string()"
      ],
      "execution_count": null,
      "outputs": [
        {
          "output_type": "stream",
          "name": "stdout",
          "text": [
            "esta vacio?? True\n",
            "numero de elementos 0\n",
            "esta vacio?? False\n",
            "numero de elementos 3\n",
            "|10| <--|20| <--|30| <--|40| <--|50| <--|60| <--\n",
            "atendiendo a:  None\n",
            "|20| <--|30| <--|40| <--|50| <--|60| <--\n"
          ]
        }
      ]
    },
    {
      "cell_type": "markdown",
      "metadata": {
        "id": "yu10P_YbQrp1"
      },
      "source": [
        "#Variantes de la cola ADT\n",
        "1. Circulares\n",
        "2. Prioridad\n",
        " 1. acotada\n",
        " 2. no acotada"
      ]
    }
  ]
}