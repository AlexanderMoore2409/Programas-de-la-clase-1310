{
  "nbformat": 4,
  "nbformat_minor": 0,
  "metadata": {
    "colab": {
      "name": "Arboles_pre_orden.ipynb",
      "provenance": [],
      "collapsed_sections": [],
      "authorship_tag": "ABX9TyM22fz7CK6wpn9HE7BEBBV1",
      "include_colab_link": true
    },
    "kernelspec": {
      "name": "python3",
      "display_name": "Python 3"
    },
    "language_info": {
      "name": "python"
    }
  },
  "cells": [
    {
      "cell_type": "markdown",
      "metadata": {
        "id": "view-in-github",
        "colab_type": "text"
      },
      "source": [
        "<a href=\"https://colab.research.google.com/github/AlexanderMoore2409/Programas-de-la-clase-1310/blob/main/Arboles_pre_orden.ipynb\" target=\"_parent\"><img src=\"https://colab.research.google.com/assets/colab-badge.svg\" alt=\"Open In Colab\"/></a>"
      ]
    },
    {
      "cell_type": "code",
      "execution_count": 3,
      "metadata": {
        "id": "drdAf2XF-52w"
      },
      "outputs": [],
      "source": [
        "class BinaryNode:\n",
        "  def __init__ (self, value, left = None, rigth = None  ):\n",
        "    self.data = value\n",
        "    self.left = left\n",
        "    self.rigth = rigth\n",
        "\n",
        "class BinarySearchTree:\n",
        "  def __init__ (self):\n",
        "    self.root = None\n",
        "\n",
        "\n",
        "  def insert (self, value ):\n",
        "    if self.root == None:\n",
        "      self.root = BinaryNode(value)\n",
        "    else: \n",
        "      self.__insert_nodo(self.root, value)\n",
        "\n",
        "\n",
        "\n",
        "  def __insert_nodo(self, nodo, value):\n",
        "    if nodo.data == value:\n",
        "      pass\n",
        "    elif value < nodo.data:\n",
        "      if nodo.left == None:\n",
        "        nodo.left = BinaryNode(value)\n",
        "      else:\n",
        "        self.__insert_nodo(nodo.left, value)\n",
        "    else: \n",
        "      if nodo.rigth == None:\n",
        "        nodo.rigth = BinaryNode ( value)\n",
        "      else: \n",
        "        self.__insert_nodo(nodo.rigth, value)\n",
        "\n",
        "\n",
        "  def transversal ( self, formato= \"posorden\"):\n",
        "    if formato  == \"posorde\":\n",
        "      self.recorrido_pos(self.root)\n",
        "    elif formato == \"preorden\":\n",
        "      self.recorrido_pre(self.root)\n",
        "    else: #inorden\n",
        "      self.recorrido_in(self.root)\n",
        "    print(\"\")\n",
        "      \n",
        "  def recorrido_pre(self, nodo):\n",
        "    if nodo != None:\n",
        "      print(str(nodo.data), end = \",\"   )\n",
        "      self.recorrido_pre(nodo.left)\n",
        "      self.recorrido_pre(nodo.rigth)\n",
        " \n",
        "  def search(self, value ):\n",
        "    if self.root == None:\n",
        "      print(\"El arbol esta vacio\")\n",
        "      return None\n",
        "    else:\n",
        "      self.__search(  self.root, value)\n",
        "\n",
        "\n",
        "  def __search(self, nodo, value ):\n",
        "    if nodo.data == None:\n",
        "      print(\"EL dato no existe\")\n",
        "      return None\n",
        "    elif nodo.data == value:\n",
        "      print(\"Encontrado\")\n",
        "      return nodo\n",
        "    elif value < nodo.data:\n",
        "      return self.__buscar( nodo.left, value)\n",
        "    else:\n",
        "      return self.__buscar( nodo.rigth, value)\n"
      ]
    },
    {
      "cell_type": "code",
      "source": [
        "ej = BinarySearchTree()\n",
        "ej.insert(21)\n",
        "ej.insert(13)\n",
        "ej.insert(10)\n",
        "ej.insert(18)\n",
        "ej.insert(33)\n",
        "ej.insert(25)\n",
        "ej.insert(40)\n",
        "\n",
        "ej.transversal(\"preorden\")\n"
      ],
      "metadata": {
        "colab": {
          "base_uri": "https://localhost:8080/"
        },
        "id": "uEOXQIhM_ATX",
        "outputId": "12c0e38e-ec01-4017-c133-164284a23514"
      },
      "execution_count": 4,
      "outputs": [
        {
          "output_type": "stream",
          "name": "stdout",
          "text": [
            "21,13,10,18,33,25,40,\n"
          ]
        }
      ]
    }
  ]
}