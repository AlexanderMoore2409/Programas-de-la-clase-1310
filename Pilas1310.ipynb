{
  "nbformat": 4,
  "nbformat_minor": 0,
  "metadata": {
    "colab": {
      "name": "Pilas1310.ipynb",
      "provenance": [],
      "collapsed_sections": [],
      "authorship_tag": "ABX9TyNaXXFhMq4iWvYcNWNcZSxm",
      "include_colab_link": true
    },
    "kernelspec": {
      "name": "python3",
      "display_name": "Python 3"
    },
    "language_info": {
      "name": "python"
    }
  },
  "cells": [
    {
      "cell_type": "markdown",
      "metadata": {
        "id": "view-in-github",
        "colab_type": "text"
      },
      "source": [
        "<a href=\"https://colab.research.google.com/github/AlexanderMoore2409/Programas-de-la-clase-1310/blob/main/Pilas1310.ipynb\" target=\"_parent\"><img src=\"https://colab.research.google.com/assets/colab-badge.svg\" alt=\"Open In Colab\"/></a>"
      ]
    },
    {
      "cell_type": "code",
      "metadata": {
        "id": "O9MJacR3ALLU"
      },
      "source": [
        "class StackADT:\n",
        "  def __init__(self):\n",
        "    self.__data = list()\n",
        "\n",
        "  #Regresa true si la lista esta vacia\n",
        "  def is_empty(self):\n",
        "    return len(self.__data) == 0\n",
        "  \n",
        "  def get_length(self):\n",
        "    return len(self.__data)\n",
        "\n",
        "  def pop(self):\n",
        "    if self.is_empty():\n",
        "      print(\"pila vacia no hay nada que4 sacar\")\n",
        "    else:\n",
        "      return self.__data.pop()\n",
        "  \n",
        "  def peek(self):\n",
        "    if self.is_empty():\n",
        "      print(\"pila vacia no hay nada que sacar\")\n",
        "    else:\n",
        "      return self.__data[-1]\n",
        "\n",
        "  def push(self,value):\n",
        "    self.__data.append(value)\n",
        "\n",
        "  def to_string(self):\n",
        "    for item in self.__data[::-1]:\n",
        "      print(f\"|{item}|\")"
      ],
      "execution_count": null,
      "outputs": []
    },
    {
      "cell_type": "code",
      "metadata": {
        "colab": {
          "base_uri": "https://localhost:8080/"
        },
        "id": "OqGaQcchQoht",
        "outputId": "bd8f912f-affd-4839-80ea-57d2f1bbe9d7"
      },
      "source": [
        "pila =  StackADT()\n",
        "print(\"Esta Vacia=\", pila.is_empty())\n",
        "print(\"#elementos:\",pila.get_length())\n",
        "pila.push(10)\n",
        "print(\"Esta Vacia? =\", pila.is_empty())\n",
        "print(\"#elementos:\",pila.get_length())\n",
        "pila.push(20)\n",
        "pila.push(30)\n",
        "pila.push(40)\n",
        "pila.to_string()\n",
        "print(pila.pop()) #40\n",
        "print(pila.peek()) #30\n",
        "pila.to_string()"
      ],
      "execution_count": null,
      "outputs": [
        {
          "output_type": "stream",
          "name": "stdout",
          "text": [
            "Esta Vacia= True\n",
            "#elementos: 0\n",
            "Esta Vacia? = False\n",
            "#elementos: 1\n",
            "|40|\n",
            "|30|\n",
            "|20|\n",
            "|10|\n",
            "40\n",
            "30\n",
            "|30|\n",
            "|20|\n",
            "|10|\n"
          ]
        }
      ]
    },
    {
      "cell_type": "markdown",
      "metadata": {
        "id": "nXzvYrIFyl5r"
      },
      "source": [
        "#Aplicacion de pilas Balanceo de llaves en programación\n"
      ]
    },
    {
      "cell_type": "code",
      "metadata": {
        "id": "WEt2VZ58leDi",
        "colab": {
          "base_uri": "https://localhost:8080/"
        },
        "outputId": "edfae8f9-b3e1-4fb8-846c-69ccac123171"
      },
      "source": [
        "!cat prog.txt"
      ],
      "execution_count": null,
      "outputs": [
        {
          "output_type": "stream",
          "name": "stdout",
          "text": [
            "#include <stdio.h>\r\n",
            "int main()\r\n",
            "{\r\n",
            "    int num, count, sum = 0;\r\n",
            "    {}\r\n",
            "\r\n",
            "    printf(\"Enter a positive integer: \");\r\n",
            "    scanf(\"%d\", &num);\r\n",
            "\r\n",
            "    // for loop terminates when num is less than count\r\n",
            "    for(count = 1; count <= num; ++count)\r\n",
            "    {\r\n",
            "        sum += count;\r\n",
            "    }\r\n",
            "\r\n",
            "    printf(\"Sum = %d\", sum);\r\n",
            "\r\n",
            "    return 0;\r\n",
            "}"
          ]
        }
      ]
    },
    {
      "cell_type": "code",
      "metadata": {
        "colab": {
          "base_uri": "https://localhost:8080/"
        },
        "id": "DzBBxbS9zv_A",
        "outputId": "070b49b1-e752-4b76-c02f-95efc713ce63"
      },
      "source": [
        "entrada = open('Matriz.txt', 'rt')\n",
        "codigo = entrada.read()\n",
        "#print(codigo)\n",
        "pilaControl = StackADT()\n",
        "pilaControl.push(\"#\")\n",
        "\n",
        "for letra in codigo:\n",
        "  #print(f\"--> {letra} <--\")\n",
        "  if letra == '{': #regla 1\n",
        "    pilaControl.push(\"{\")\n",
        "  elif letra == '}': #regla 2\n",
        "    basura = pilaControl.pop()\n",
        "  else: \n",
        "    pass\n",
        "\n",
        "  #NOTA: este codigo no contempla desbalanceo\n",
        "if pilaControl.peek() == '#':\n",
        "  print(\"El codigo esta correctamente balanaceado\")\n",
        "else:\n",
        "  print(\"el codigo no esta balanceado {Y}\") "
      ],
      "execution_count": 24,
      "outputs": [
        {
          "output_type": "stream",
          "name": "stdout",
          "text": [
            "El codigo esta correctamente balanaceado\n"
          ]
        }
      ]
    },
    {
      "cell_type": "markdown",
      "metadata": {
        "id": "RJRgn_Ub7cWB"
      },
      "source": [
        "#Aplicacion de pilas, Backtracking\n"
      ]
    },
    {
      "cell_type": "code",
      "metadata": {
        "id": "icDuSpZ97ejE"
      },
      "source": [
        ""
      ],
      "execution_count": null,
      "outputs": []
    }
  ]
}