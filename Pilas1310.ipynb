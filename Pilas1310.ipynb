{
  "nbformat": 4,
  "nbformat_minor": 0,
  "metadata": {
    "colab": {
      "name": "Pilas1310.ipynb",
      "provenance": [],
      "collapsed_sections": [],
      "authorship_tag": "ABX9TyPLavxbY4ucWHAOz1o3UON1",
      "include_colab_link": true
    },
    "kernelspec": {
      "name": "python3",
      "display_name": "Python 3"
    },
    "language_info": {
      "name": "python"
    }
  },
  "cells": [
    {
      "cell_type": "markdown",
      "metadata": {
        "id": "view-in-github",
        "colab_type": "text"
      },
      "source": [
        "<a href=\"https://colab.research.google.com/github/AlexanderMoore2409/Programas-de-la-clase-1310/blob/main/Pilas1310.ipynb\" target=\"_parent\"><img src=\"https://colab.research.google.com/assets/colab-badge.svg\" alt=\"Open In Colab\"/></a>"
      ]
    },
    {
      "cell_type": "code",
      "metadata": {
        "id": "O9MJacR3ALLU"
      },
      "source": [
        "class StackADT:\n",
        "  def __init__(self):\n",
        "    self.__data = list()\n",
        "\n",
        "  #Regresa true si la lista esta vacia\n",
        "  def is_empty(self):\n",
        "    return len(self.__data) == 0\n",
        "  \n",
        "  def get_length(self):\n",
        "    return len(self.__data)\n",
        "\n",
        "  def pop(self):\n",
        "    if self.is_empty():\n",
        "      print(\"pila vacia no hay nada que4 sacar\")\n",
        "    else:\n",
        "      return self.__data.pop()\n",
        "  \n",
        "  def peek(self):\n",
        "    if self.is_empty():\n",
        "      print(\"pila vacia no hay nada que sacar\")\n",
        "    else:\n",
        "      return self.__data[-1]\n",
        "\n",
        "  def push(self,value):\n",
        "    self.__data.append(value)\n",
        "\n",
        "  def to_string(self):\n",
        "    for item in self.__data[::-1]:\n",
        "      print(f\"|{item}|\")"
      ],
      "execution_count": 2,
      "outputs": []
    },
    {
      "cell_type": "code",
      "metadata": {
        "colab": {
          "base_uri": "https://localhost:8080/"
        },
        "id": "OqGaQcchQoht",
        "outputId": "e80b2f78-4ff7-44e7-d404-1d930df0868c"
      },
      "source": [
        "pila =  StackADT()\n",
        "print(\"Esta Vacia=\", pila.is_empty())\n",
        "print(\"#elementos:\",pila.get_length())\n",
        "pila.push(10)\n",
        "print(\"Esta Vacia? =\", pila.is_empty())\n",
        "print(\"#elementos:\",pila.get_length())\n",
        "pila.push(20)\n",
        "pila.push(30)\n",
        "pila.push(40)\n",
        "pila.to_string()\n",
        "print(pila.pop()) #40\n",
        "print(pila.peek()) #30\n",
        "pila.to_string()"
      ],
      "execution_count": 4,
      "outputs": [
        {
          "output_type": "stream",
          "name": "stdout",
          "text": [
            "Esta Vacia= True\n",
            "#elementos: 0\n",
            "Esta Vacia? = False\n",
            "#elementos: 1\n",
            "|40|\n",
            "|30|\n",
            "|20|\n",
            "|10|\n",
            "40\n",
            "30\n",
            "|30|\n",
            "|20|\n",
            "|10|\n"
          ]
        }
      ]
    }
  ]
}