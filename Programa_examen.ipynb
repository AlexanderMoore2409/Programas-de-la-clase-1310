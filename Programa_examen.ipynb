{
  "nbformat": 4,
  "nbformat_minor": 0,
  "metadata": {
    "colab": {
      "name": "Programa examen.ipynb",
      "provenance": [],
      "collapsed_sections": [],
      "authorship_tag": "ABX9TyNhxWIRJtpW3qZYxquCXCwn",
      "include_colab_link": true
    },
    "kernelspec": {
      "name": "python3",
      "display_name": "Python 3"
    },
    "language_info": {
      "name": "python"
    }
  },
  "cells": [
    {
      "cell_type": "markdown",
      "metadata": {
        "id": "view-in-github",
        "colab_type": "text"
      },
      "source": [
        "<a href=\"https://colab.research.google.com/github/AlexanderMoore2409/Programas-de-la-clase-1310/blob/main/Programa_examen.ipynb\" target=\"_parent\"><img src=\"https://colab.research.google.com/assets/colab-badge.svg\" alt=\"Open In Colab\"/></a>"
      ]
    },
    {
      "cell_type": "code",
      "metadata": {
        "id": "H13icPmG0-xZ"
      },
      "source": [
        "class Nodo:\n",
        "  def __init__(self,value,siguiente = None):\n",
        "    self.data= value\n",
        "    self.next= siguiente\n",
        "\n",
        "class LinkedList:\n",
        "  def __init__(self):\n",
        "    self.head = None\n",
        "\n",
        "  def is_empty (self):\n",
        "    return self.head == None\n",
        "\n",
        "  def get_tail(self):\n",
        "    if self.is_empty():\n",
        "      return None\n",
        "    else:\n",
        "      curr_node = self.head\n",
        "      while curr_node.next != None:\n",
        "        curr_node = curr_node.next\n",
        "      return curr_node\n",
        "\n",
        "  def append( self, value):\n",
        "    if self.head == None:\n",
        "        self.head = Nodo(value)\n",
        "    else:\n",
        "      curr_node = self.head\n",
        "      while curr_node.next != None:\n",
        "        curr_node = curr_node.next\n",
        "      curr_node.next = Nodo(value)\n",
        "\n",
        "  def transversal (self):\n",
        "    curr_node = self.head\n",
        "    while curr_node != None:\n",
        "      print(f\"| {curr_node.data} | -->\", end=\"\")\n",
        "      curr_node = curr_node.next\n",
        "    print (\"\")\n",
        "\n",
        "  def remove ( self , value):\n",
        "    if self.head == None:\n",
        "      print(\"Lista vacia, no se pudo remover nada\")\n",
        "    else:\n",
        "      curr_node = self.head\n",
        "      aux = None\n",
        "      while curr_node.data != value:\n",
        "        aux = curr_node\n",
        "        curr_node = curr_node.next\n",
        "        \n",
        "      if curr_node != None:\n",
        "        aux.next = curr_node.next\n",
        "        curr_node = 65\n",
        "\n",
        "  def preppend ( self, value):\n",
        "    if self.head != None:\n",
        "      print(\"esta vacio\")\n",
        "    else:\n",
        "      aux = self.head\n",
        "      self.head = Nodo (value,aux)\n"
      ],
      "execution_count": 20,
      "outputs": []
    },
    {
      "cell_type": "code",
      "metadata": {
        "colab": {
          "base_uri": "https://localhost:8080/"
        },
        "id": "hC50_mhF1AtT",
        "outputId": "f907f559-dd76-4da4-f087-c834d157a61d"
      },
      "source": [
        "head = Nodo(40,Nodo(45, Nodo(50,Nodo(55,Nodo(60)))))\n",
        "#Nodo (valor, siguinte)\n",
        "\n",
        "#transversal\n",
        "curr_node = head\n",
        "while curr_node != None:\n",
        "  print(f\"|{curr_node.data}|-->\", end=\"\")\n",
        "  curr_node = curr_node.next\n",
        "print(\"\")\n",
        "# Imprimir el primero\n",
        "print(head.data)\n",
        "\n",
        "#imprimir el ultimo\n",
        "curr_node = head\n",
        "while curr_node.next != None:\n",
        "  curr_node = curr_node.next\n",
        "print(curr_node.data)\n",
        "\n",
        "curr_node = head\n",
        "while curr_node.data != 60:\n",
        "  curr_node = curr_node.next\n",
        "print(curr_node.data)\n",
        "\n",
        "#Crear el nodo 65\n",
        "\n",
        "curr_node.next = Nodo(65, curr_node.next)\n",
        "print(\"Despues de insertar el 65:\")\n",
        "\n",
        "#Transversal\n",
        "curr_node = head\n",
        "while curr_node != None:\n",
        "  print(f\"|{curr_node.data}|-->\", end=\"\")\n",
        "  curr_node = curr_node.next\n",
        "print(\"\")\n",
        "\n",
        "#borrando el nodo 65\n",
        "curr_node = head\n",
        "aux = None\n",
        "\n",
        "while curr_node.data !=65:\n",
        "  aux = curr_node\n",
        "  curr_node =curr_node.next\n",
        "if curr_node !=None:\n",
        "  aux.next = curr_node.next\n",
        "  curr_node = None\n",
        "curr_node = head\n",
        "while curr_node != None:\n",
        "  print(f\"|{curr_node.data}|-->\", end=\"\")\n",
        "  curr_node = curr_node.next\n",
        "print(\"\")\n",
        "\n",
        "\n",
        "\n"
      ],
      "execution_count": 47,
      "outputs": [
        {
          "output_type": "stream",
          "name": "stdout",
          "text": [
            "|40|-->|45|-->|50|-->|55|-->|60|-->\n",
            "40\n",
            "60\n",
            "60\n",
            "Despues de insertar el 65:\n",
            "|40|-->|45|-->|50|-->|55|-->|60|-->|65|-->\n",
            "|40|-->|45|-->|50|-->|55|-->|60|-->\n"
          ]
        }
      ]
    }
  ]
}