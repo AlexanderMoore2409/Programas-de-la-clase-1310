{
  "nbformat": 4,
  "nbformat_minor": 0,
  "metadata": {
    "colab": {
      "name": "arboles_1310.ipynb",
      "provenance": [],
      "collapsed_sections": [],
      "authorship_tag": "ABX9TyPctqC251iaWAdXdDKV+9/4",
      "include_colab_link": true
    },
    "kernelspec": {
      "name": "python3",
      "display_name": "Python 3"
    },
    "language_info": {
      "name": "python"
    }
  },
  "cells": [
    {
      "cell_type": "markdown",
      "metadata": {
        "id": "view-in-github",
        "colab_type": "text"
      },
      "source": [
        "<a href=\"https://colab.research.google.com/github/AlexanderMoore2409/Programas-de-la-clase-1310/blob/main/arboles_1310.ipynb\" target=\"_parent\"><img src=\"https://colab.research.google.com/assets/colab-badge.svg\" alt=\"Open In Colab\"/></a>"
      ]
    },
    {
      "cell_type": "code",
      "metadata": {
        "id": "lfBilzvhCSm1"
      },
      "source": [
        "    class NodoBinario:\n",
        "        def __init__(self, value, left= None, right= None):\n",
        "            self.data = value\n",
        "            self.left = left\n",
        "            self.right = right \n",
        "\n",
        "    class NodoTernario:\n",
        "        def __init__(self, value, left= None, center= None, right= None):\n",
        "            self.data = value\n",
        "            self.left = left\n",
        "            self.center = center\n",
        "            self.right = right"
      ],
      "execution_count": null,
      "outputs": []
    },
    {
      "cell_type": "code",
      "metadata": {
        "colab": {
          "base_uri": "https://localhost:8080/"
        },
        "id": "vlZmoBfcD-X1",
        "outputId": "4c974844-718c-4b3b-ad66-7082f4c00172"
      },
      "source": [
        "    arbol1= NodoBinario(\"R\", NodoBinario(\"C\"), NodoBinario(\"H\") )\n",
        "    print(arbol1.right.data)\n",
        "\n",
        "    arbol2 = NodoTernario(4, NodoTernario(3,\\\n",
        "            NodoTernario(5, left=NodoTernario(2)),\\\n",
        "            NodoTernario(5), NodoTernario(2)), None, NodoTernario(5))\n",
        "    print(arbol2.left.right.data)\n",
        "    print(arbol2.data)\n",
        "    print(arbol2.left.center.data)\n",
        "    print(arbol2.right.left)\n",
        "    print(arbol2.left.left.left.data)\n",
        "    print(\"-----sin usar left en el print-----\")\n",
        "    ejemplo= arbol2.left.left.left.data\n",
        "    print(ejemplo)\n",
        "    print(\"-----¿¿¿Otra Forma???----\")\n",
        "    aux = arbol2\n",
        "    while(aux.left !=None):\n",
        "      aux = aux.left\n",
        "      print(aux.data)\n",
        "\n"
      ],
      "execution_count": null,
      "outputs": [
        {
          "output_type": "stream",
          "name": "stdout",
          "text": [
            "H\n",
            "2\n",
            "4\n",
            "5\n",
            "None\n",
            "2\n",
            "-----sin usar left en el print-----\n",
            "2\n",
            "-----¿¿¿Otra Forma???----\n",
            "3\n",
            "5\n",
            "2\n"
          ]
        }
      ]
    },
    {
      "cell_type": "code",
      "metadata": {
        "colab": {
          "base_uri": "https://localhost:8080/"
        },
        "id": "0xbcdd7OHsll",
        "outputId": "3fa39a12-ff83-4892-9a13-3b504cf6e5a2"
      },
      "source": [
        "root = NodoBinario(\"Santi\",None,NodoBinario(\"Jesus\",NodoBinario(\"Pedro\",None,NodoBinario(\"Pedro jr\"))))\n",
        "print(root.right.left.right.data)"
      ],
      "execution_count": null,
      "outputs": [
        {
          "output_type": "stream",
          "name": "stdout",
          "text": [
            "Pedro jr\n"
          ]
        }
      ]
    },
    {
      "cell_type": "code",
      "metadata": {
        "id": "L4wWJDkj94Ji"
      },
      "source": [
        "class BinaryNode:\n",
        "  def __init__ (self, value, left = None, rigth = None  ):\n",
        "    self.data = value\n",
        "    self.left = left\n",
        "    self.rigth = rigth\n",
        "\n",
        "class BinarySearchTree:\n",
        "  def __init__ (self):\n",
        "    self.root = None\n",
        "\n",
        "\n",
        "  def insert (self, value ):\n",
        "    if self.root == None:\n",
        "      self.root = BinaryNode(value)\n",
        "    else: \n",
        "      self.__insert_nodo(self.root, value)\n",
        "\n",
        "\n",
        "\n",
        "  def __insert_nodo(self, nodo, value):\n",
        "    if nodo.data == value:\n",
        "      pass\n",
        "    elif value < nodo.data:\n",
        "      if nodo.left == None:\n",
        "        nodo.left = BinaryNode(value)\n",
        "      else:\n",
        "        self.__insert_nodo(nodo.left, value)\n",
        "    else: \n",
        "      if nodo.rigth == None:\n",
        "        nodo.rigth = BinaryNode ( value)\n",
        "      else: \n",
        "        self.__insert_nodo(nodo.rigth, value)\n",
        "\n",
        "\n",
        "  def transversal ( self, formato= \"posorden\"):\n",
        "    if formato  == \"posorde\":\n",
        "      self.recorrido_pos(self.root)\n",
        "    elif formato == \"preorden\":\n",
        "      self.recorrido_pre(self.root)\n",
        "    else: #inorden\n",
        "      self.recorrido_in(self.root)\n",
        "    print(\"\")\n",
        "    \n",
        "\n",
        "\n",
        "  def recorrido_pos(self, nodo):\n",
        "    if nodo != None:\n",
        "      self.recorrido_pos(nodo.left)\n",
        "      self.recorrido_pos(nodo.rigth)\n",
        "      print(str(nodo.data), end = \",\" )\n",
        "  \n",
        "  def recorrido_pre(self, nodo):\n",
        "    if nodo != None:\n",
        "      print(str(nodo.data), end = \",\"   )\n",
        "      self.recorrido_pre(nodo.left)\n",
        "      self.recorrido_pre(nodo.rigth)\n",
        "\n",
        "\n",
        "  def recorrido_in(self, nodo):\n",
        "    if nodo != None:\n",
        "      self.recorrido_in(nodo.left)\n",
        "      print(str(nodo.data), end = \",\"   )\n",
        "      self.recorrido_in(nodo.rigth)\n",
        "  \n",
        "\n",
        "  def search(self, value ):\n",
        "    if self.root == None:\n",
        "      print(\"El arbol esta vacio\")\n",
        "      return None\n",
        "    else:\n",
        "      self.__search(  self.root, value)\n",
        "\n",
        "\n",
        "  def __search(self, nodo, value ):\n",
        "    if nodo.data == None:\n",
        "      print(\"EL dato no existe\")\n",
        "      return None\n",
        "    elif nodo.data == value:\n",
        "      print(\"Encontrado\")\n",
        "      return nodo\n",
        "    elif value < nodo.data:\n",
        "      return self.__buscar( nodo.left, value)\n",
        "    else:\n",
        "      return self.__buscar( nodo.rigth, value)\n"
      ],
      "execution_count": 10,
      "outputs": []
    },
    {
      "cell_type": "code",
      "metadata": {
        "colab": {
          "base_uri": "https://localhost:8080/"
        },
        "id": "WNAzjNkzEr2T",
        "outputId": "7b9e31f2-6165-4484-b827-166f9fad5e30"
      },
      "source": [
        "ej = BinarySearchTree()\n",
        "ej.insert(60)\n",
        "ej.insert(30)\n",
        "ej.insert(15)\n",
        "ej.insert(40)\n",
        "ej.transversal(\"posorden\")\n",
        "ej.transversal(\"preorden\")\n",
        "ej.transversal(\"inorden\")"
      ],
      "execution_count": 11,
      "outputs": [
        {
          "output_type": "stream",
          "name": "stdout",
          "text": [
            "15,30,40,60,\n",
            "60,30,15,40,\n",
            "15,30,40,60,\n"
          ]
        }
      ]
    }
  ]
}