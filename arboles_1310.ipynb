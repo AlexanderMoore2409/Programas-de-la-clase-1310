{
  "nbformat": 4,
  "nbformat_minor": 0,
  "metadata": {
    "colab": {
      "name": "arboles_1310.ipynb",
      "provenance": [],
      "collapsed_sections": [],
      "authorship_tag": "ABX9TyNipFWF4m1zSrH5lnQ94Oy2",
      "include_colab_link": true
    },
    "kernelspec": {
      "name": "python3",
      "display_name": "Python 3"
    },
    "language_info": {
      "name": "python"
    }
  },
  "cells": [
    {
      "cell_type": "markdown",
      "metadata": {
        "id": "view-in-github",
        "colab_type": "text"
      },
      "source": [
        "<a href=\"https://colab.research.google.com/github/AlexanderMoore2409/Programas-de-la-clase-1310/blob/main/arboles_1310.ipynb\" target=\"_parent\"><img src=\"https://colab.research.google.com/assets/colab-badge.svg\" alt=\"Open In Colab\"/></a>"
      ]
    },
    {
      "cell_type": "code",
      "metadata": {
        "id": "lfBilzvhCSm1"
      },
      "source": [
        "    class NodoBinario:\n",
        "        def __init__(self, value, left= None, right= None):\n",
        "            self.data = value\n",
        "            self.left = left\n",
        "            self.right = right \n",
        "\n",
        "    class NodoTernario:\n",
        "        def __init__(self, value, left= None, center= None, right= None):\n",
        "            self.data = value\n",
        "            self.left = left\n",
        "            self.center = center\n",
        "            self.right = right"
      ],
      "execution_count": 1,
      "outputs": []
    },
    {
      "cell_type": "code",
      "metadata": {
        "colab": {
          "base_uri": "https://localhost:8080/"
        },
        "id": "vlZmoBfcD-X1",
        "outputId": "9f3d1c54-79f2-4dfd-e753-11e4f2fcbaf9"
      },
      "source": [
        "    arbol1= NodoBinario(\"R\", NodoBinario(\"C\"), NodoBinario(\"H\") )\n",
        "    print(arbol1.right.data)\n",
        "\n",
        "    arbol2 = NodoTernario(4, NodoTernario(3,\\\n",
        "            NodoTernario(5, left=NodoTernario(2)),\\\n",
        "            NodoTernario(5), NodoTernario(2)), None, NodoTernario(5))\n",
        "    print(arbol2.left.right.data)\n",
        "    print(arbol2.data)\n",
        "    print(arbol2.left.center.data)\n",
        "    print(arbol2.right.left)"
      ],
      "execution_count": 2,
      "outputs": [
        {
          "output_type": "stream",
          "name": "stdout",
          "text": [
            "H\n",
            "2\n",
            "4\n",
            "5\n",
            "None\n"
          ]
        }
      ]
    }
  ]
}